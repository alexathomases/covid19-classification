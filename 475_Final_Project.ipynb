{
  "cells": [
    {
      "cell_type": "markdown",
      "metadata": {
        "id": "view-in-github",
        "colab_type": "text"
      },
      "source": [
        "<a href=\"https://colab.research.google.com/github/alexathomases/covid19-classification/blob/main/475_Final_Project.ipynb\" target=\"_parent\"><img src=\"https://colab.research.google.com/assets/colab-badge.svg\" alt=\"Open In Colab\"/></a>"
      ]
    },
    {
      "cell_type": "markdown",
      "metadata": {
        "id": "vlGrQfDuycJx"
      },
      "source": [
        "#Downloading Dataset"
      ]
    },
    {
      "cell_type": "code",
      "execution_count": null,
      "metadata": {
        "colab": {
          "base_uri": "https://localhost:8080/"
        },
        "id": "RF99dJtwl4kN",
        "outputId": "ac18fb2a-3ea1-4b60-cfef-4928f1774cdf"
      },
      "outputs": [
        {
          "output_type": "stream",
          "name": "stdout",
          "text": [
            "Mounted at /content/drive\n"
          ]
        }
      ],
      "source": [
        "# mount Google Drive (must do every time to access saved files)\n",
        "from google.colab import drive\n",
        "drive.mount('/content/drive')"
      ]
    },
    {
      "cell_type": "code",
      "execution_count": null,
      "metadata": {
        "id": "vPzVQ6QytCGg"
      },
      "outputs": [],
      "source": [
        "#Configure Kaggle API\n",
        "import os\n",
        "os.environ['KAGGLE_USERNAME'] = \"alexholzbach\" # username from the kaggle json file\n",
        "os.environ['KAGGLE_KEY'] = \"2d7d33825c5a175807651729ce5e80d3\" # key from the kaggle json file"
      ]
    },
    {
      "cell_type": "code",
      "execution_count": null,
      "metadata": {
        "id": "PSV9cGIRt8ED"
      },
      "outputs": [],
      "source": [
        "!cd drive/Shareddrives/'475 Final Project'/datasets"
      ]
    },
    {
      "cell_type": "code",
      "execution_count": null,
      "metadata": {
        "colab": {
          "base_uri": "https://localhost:8080/"
        },
        "id": "Kw3yRkzrtlq9",
        "outputId": "8c0a0d15-ef74-4442-ef02-3a9143d6f691"
      },
      "outputs": [
        {
          "name": "stdout",
          "output_type": "stream",
          "text": [
            "Downloading large-covid19-ct-slice-dataset.zip to /content\n",
            "100% 2.05G/2.06G [00:18<00:00, 148MB/s]\n",
            "100% 2.06G/2.06G [00:18<00:00, 122MB/s]\n"
          ]
        }
      ],
      "source": [
        "# download dataset into the notebook\n",
        "!kaggle datasets download -d maedemaftouni/large-covid19-ct-slice-dataset"
      ]
    },
    {
      "cell_type": "code",
      "execution_count": null,
      "metadata": {
        "id": "1UATSb-2wuH7"
      },
      "outputs": [],
      "source": [
        "# store dataset in shared drive\n",
        "!mv '/content/large-covid19-ct-slice-dataset.zip' '/content/drive/Shareddrives/475 Final Project/datasets'"
      ]
    },
    {
      "cell_type": "code",
      "execution_count": null,
      "metadata": {
        "id": "qqnzNgddzB42"
      },
      "outputs": [],
      "source": [
        "!unzip '/content/drive/Shareddrives/475 Final Project/datasets/large-covid19-ct-slice-dataset.zip'"
      ]
    },
    {
      "cell_type": "code",
      "execution_count": null,
      "metadata": {
        "id": "gzSWKRVHz5Zy"
      },
      "outputs": [],
      "source": [
        "!mv '/content/curated_data' '/content/drive/Shareddrives/475 Final Project/datasets'"
      ]
    },
    {
      "cell_type": "code",
      "execution_count": null,
      "metadata": {
        "id": "XWi9dqqR5TAN"
      },
      "outputs": [],
      "source": [
        "!mv '/content/meta_data_normal.csv' '/content/drive/Shareddrives/475 Final Project/datasets'"
      ]
    },
    {
      "cell_type": "markdown",
      "metadata": {
        "id": "Azx1eFa6ykGR"
      },
      "source": [
        "#Start Code"
      ]
    },
    {
      "cell_type": "code",
      "execution_count": null,
      "metadata": {
        "colab": {
          "base_uri": "https://localhost:8080/"
        },
        "id": "Be3qKJKskKao",
        "outputId": "6f70f7a8-d9eb-4255-e9fe-6c97de37380c"
      },
      "outputs": [
        {
          "output_type": "stream",
          "name": "stdout",
          "text": [
            "Collecting progressbar\n",
            "  Downloading progressbar-2.5.tar.gz (10 kB)\n",
            "Building wheels for collected packages: progressbar\n",
            "  Building wheel for progressbar (setup.py) ... \u001b[?25l\u001b[?25hdone\n",
            "  Created wheel for progressbar: filename=progressbar-2.5-py3-none-any.whl size=12082 sha256=26b51a27b56eef74bf0643fd11d34a83cd61fda6f7d6e68486dfce93f5d55d07\n",
            "  Stored in directory: /root/.cache/pip/wheels/f0/fd/1f/3e35ed57e94cd8ced38dd46771f1f0f94f65fec548659ed855\n",
            "Successfully built progressbar\n",
            "Installing collected packages: progressbar\n",
            "Successfully installed progressbar-2.5\n"
          ]
        }
      ],
      "source": [
        "import pandas as pd\n",
        "from pathlib import Path\n",
        "import os\n",
        "from tensorflow import keras\n",
        "from tensorflow.keras.preprocessing.image import ImageDataGenerator\n",
        "from matplotlib import pyplot as plt, image as img\n",
        "import numpy as np\n",
        "from sklearn.model_selection import train_test_split\n",
        "from tensorflow.keras.layers import BatchNormalization\n",
        "from tensorflow.keras.layers import (\n",
        "    Conv2D,\n",
        "    Conv2DTranspose,\n",
        "    MaxPool2D,\n",
        "    ReLU,\n",
        "    Flatten,\n",
        "    Dense,\n",
        "    UpSampling2D,\n",
        "    Dropout,\n",
        "    Input, \n",
        "    Concatenate,\n",
        "    GlobalAveragePooling2D, \n",
        "    GlobalMaxPooling2D,\n",
        ")\n",
        "from skimage.transform import resize\n",
        "from tensorflow import Tensor\n",
        "from tensorflow.keras.models import Model, Sequential, load_model\n",
        "from tensorflow.keras import layers\n",
        "import tensorflow as tf\n",
        "from tensorflow.keras.callbacks import Callback, ModelCheckpoint, ReduceLROnPlateau, EarlyStopping\n",
        "from keras.layers import Input\n",
        "from tensorflow import Tensor\n",
        "from scipy.stats import mannwhitneyu\n",
        "from tabulate import tabulate\n",
        "\n",
        "!pip3 install progressbar\n",
        "import progressbar\n",
        "\n",
        "# random seed generator\n",
        "np.random.seed(3)\n",
        "tf.random.set_seed(7)"
      ]
    },
    {
      "cell_type": "code",
      "execution_count": null,
      "metadata": {
        "colab": {
          "base_uri": "https://localhost:8080/",
          "height": 236
        },
        "id": "r7xnmkVTMePE",
        "outputId": "94b67181-1b1a-401f-86e7-1018f8532fc9"
      },
      "outputs": [
        {
          "output_type": "error",
          "ename": "NameError",
          "evalue": "ignored",
          "traceback": [
            "\u001b[0;31m---------------------------------------------------------------------------\u001b[0m",
            "\u001b[0;31mNameError\u001b[0m                                 Traceback (most recent call last)",
            "\u001b[0;32m<ipython-input-5-6128681ff2a0>\u001b[0m in \u001b[0;36m<module>\u001b[0;34m()\u001b[0m\n\u001b[0;32m----> 1\u001b[0;31m \u001b[0mmetadata\u001b[0m \u001b[0;34m=\u001b[0m \u001b[0mpd\u001b[0m\u001b[0;34m.\u001b[0m\u001b[0mread_csv\u001b[0m\u001b[0;34m(\u001b[0m\u001b[0mpath\u001b[0m\u001b[0;34m,\u001b[0m \u001b[0mencoding\u001b[0m\u001b[0;34m=\u001b[0m\u001b[0;34m'cp720'\u001b[0m\u001b[0;34m)\u001b[0m\u001b[0;34m\u001b[0m\u001b[0;34m\u001b[0m\u001b[0m\n\u001b[0m\u001b[1;32m      2\u001b[0m \u001b[0mmetadata\u001b[0m\u001b[0;34m.\u001b[0m\u001b[0mdrop_duplicates\u001b[0m\u001b[0;34m(\u001b[0m\u001b[0;34m[\u001b[0m\u001b[0;34m\"Patient ID\"\u001b[0m\u001b[0;34m]\u001b[0m\u001b[0;34m,\u001b[0m \u001b[0minplace\u001b[0m\u001b[0;34m=\u001b[0m\u001b[0;32mTrue\u001b[0m\u001b[0;34m)\u001b[0m\u001b[0;34m\u001b[0m\u001b[0;34m\u001b[0m\u001b[0m\n\u001b[1;32m      3\u001b[0m \u001b[0mfilenames\u001b[0m \u001b[0;34m=\u001b[0m \u001b[0mnp\u001b[0m\u001b[0;34m.\u001b[0m\u001b[0marray\u001b[0m\u001b[0;34m(\u001b[0m\u001b[0mmetadata\u001b[0m\u001b[0;34m[\u001b[0m\u001b[0;34m\"File name\"\u001b[0m\u001b[0;34m]\u001b[0m\u001b[0;34m)\u001b[0m\u001b[0;34m\u001b[0m\u001b[0;34m\u001b[0m\u001b[0m\n\u001b[1;32m      4\u001b[0m \u001b[0mfilepaths\u001b[0m \u001b[0;34m=\u001b[0m \u001b[0;34m[\u001b[0m\u001b[0mpath\u001b[0m \u001b[0;34m+\u001b[0m \u001b[0;34m\"/\"\u001b[0m \u001b[0;34m+\u001b[0m \u001b[0mimg\u001b[0m \u001b[0;32mfor\u001b[0m \u001b[0mimg\u001b[0m \u001b[0;32min\u001b[0m \u001b[0mfilenames\u001b[0m\u001b[0;34m]\u001b[0m\u001b[0;34m\u001b[0m\u001b[0;34m\u001b[0m\u001b[0m\n\u001b[1;32m      5\u001b[0m \u001b[0mprint\u001b[0m\u001b[0;34m(\u001b[0m\u001b[0mfilepaths\u001b[0m\u001b[0;34m)\u001b[0m\u001b[0;34m\u001b[0m\u001b[0;34m\u001b[0m\u001b[0m\n",
            "\u001b[0;31mNameError\u001b[0m: name 'path' is not defined"
          ]
        }
      ],
      "source": [
        "metadata = pd.read_csv(path, encoding='cp720')\n",
        "metadata.drop_duplicates([\"Patient ID\"], inplace=True)\n",
        "filenames = np.array(metadata[\"File name\"])\n",
        "filepaths = [path + \"/\" + img for img in filenames]\n",
        "print(filepaths)"
      ]
    },
    {
      "cell_type": "code",
      "execution_count": null,
      "metadata": {
        "id": "fzTEKgd1MGr8"
      },
      "outputs": [],
      "source": [
        "\n",
        "def get_disctinct_filepaths(metadatapath, imgdirpath):\n",
        "  metadata = pd.read_csv(metadatapath, encoding=\"cp720\")\n",
        "  metadata.drop_duplicates([\"Patient ID\"], inplace=True)\n",
        "  filenames = np.array(metadata[\"File name\"])\n",
        "  filepaths = [imgdirpath + \"/\" + img for img in filenames]\n",
        "\n",
        "  num_patients = len(metadata[\"Patient ID\"])\n",
        "  print(f\"Found {num_patients} unique patients at {imgdirpath}\")\n",
        "  return filepaths"
      ]
    },
    {
      "cell_type": "code",
      "execution_count": null,
      "metadata": {
        "id": "eZo4127k-33J"
      },
      "outputs": [],
      "source": [
        "def load_raw_data():\n",
        "  #filepaths for metadata\n",
        "  metacovpath = \"/content/drive/Shareddrives/475 Final Project/datasets/meta_data_covid.csv\"\n",
        "  metanonpath = \"/content/drive/Shareddrives/475 Final Project/datasets/meta_data_normal.csv\"\n",
        "  metacappath = \"/content/drive/Shareddrives/475 Final Project/datasets/meta_data_cap.csv\"\n",
        "\n",
        "  #filepaths for images\n",
        "  imgcovpath = \"/content/drive/Shareddrives/475 Final Project/datasets/curated_data/curated_data/2COVID\"\n",
        "  imgnonpath = \"/content/drive/Shareddrives/475 Final Project/datasets/curated_data/curated_data/1NonCOVID\"\n",
        "  imgcappath = \"/content/drive/Shareddrives/475 Final Project/datasets/curated_data/curated_data/3CAP\"\n",
        "\n",
        "  #distinct patients in each\n",
        "  covid_images = get_disctinct_filepaths(metacovpath, imgcovpath)\n",
        "  non_covid_images = get_disctinct_filepaths(metanonpath, imgnonpath)\n",
        "  cap_images = get_disctinct_filepaths(metacappath, imgcappath)\n",
        "  \n",
        "  #Showing imagess\n",
        "  fig = plt.figure(figsize=(10, 10))\n",
        "  fig.add_subplot(1, 2, 1)\n",
        "  image = img.imread(covid_images[1])\n",
        "  plt.imshow(image)\n",
        "  plt.title(\"CT Scan of Lungs with COVID-19\")\n",
        "\n",
        "  fig.add_subplot(1, 2, 2)\n",
        "  image = img.imread(non_covid_images[1])\n",
        "  plt.imshow(image)\n",
        "  plt.title(\"CT Scan of Normal Lungs\")\n",
        "  return covid_images, non_covid_images, cap_images"
      ]
    },
    {
      "cell_type": "code",
      "execution_count": null,
      "metadata": {
        "colab": {
          "base_uri": "https://localhost:8080/"
        },
        "id": "XzAiwrQG_ULG",
        "outputId": "afddfaf6-ca95-420f-d3fe-b2aff3bec768"
      },
      "outputs": [
        {
          "output_type": "stream",
          "name": "stdout",
          "text": [
            "Found 464 unique patients at /content/drive/Shareddrives/475 Final Project/datasets/curated_data/curated_data/2COVID\n",
            "Found 604 unique patients at /content/drive/Shareddrives/475 Final Project/datasets/curated_data/curated_data/1NonCOVID\n",
            "Found 54 unique patients at /content/drive/Shareddrives/475 Final Project/datasets/curated_data/curated_data/3CAP\n"
          ]
        }
      ],
      "source": [
        "covid_images, non_covid_images, cap_images = load_raw_data()"
      ]
    },
    {
      "cell_type": "code",
      "execution_count": null,
      "metadata": {
        "id": "QnhgHsGv_nMF"
      },
      "outputs": [],
      "source": [
        "IMG_SIZE = 256\n",
        "\n",
        "# Three empty numpy arrays to store coverted images\n",
        "positive_npy = np.empty((len(covid_images), IMG_SIZE, IMG_SIZE, 1), dtype=np.float32)\n",
        "negative_npy = np.empty((len(non_covid_images), IMG_SIZE, IMG_SIZE, 1), dtype=np.float32)\n",
        "cap_npy = np.empty((len(cap_images), IMG_SIZE, IMG_SIZE, 1), dtype=np.float32)\n",
        "\n",
        "# start a bar of show percentage of loading data \n",
        "# covid_bar = progressbar.ProgressBar(maxval=len(covid_images), widgets=[progressbar.Bar('=', '[', ']'), ' ', progressbar.Percentage()])\n",
        "# non_covid_bar = progressbar.ProgressBar(maxval=len(non_covid_images), widgets=[progressbar.Bar('=', '[', ']'), ' ', progressbar.Percentage()])\n",
        "# cap_bar = progressbar.ProgressBar(maxval=len(cap_images), widgets=[progressbar.Bar('=', '[', ']'), ' ', progressbar.Percentage()])"
      ]
    },
    {
      "cell_type": "code",
      "execution_count": null,
      "metadata": {
        "colab": {
          "base_uri": "https://localhost:8080/",
          "height": 286
        },
        "id": "JWzY1iIXO6Gr",
        "outputId": "ec744385-0713-4d82-a11a-746662cb3c3c"
      },
      "outputs": [
        {
          "data": {
            "text/plain": [
              "<matplotlib.image.AxesImage at 0x7f325eea5490>"
            ]
          },
          "execution_count": 8,
          "metadata": {},
          "output_type": "execute_result"
        },
        {
          "data": {
            "image/png": "[encoded data removed]",
            "text/plain": [
              "<Figure size 432x288 with 1 Axes>"
            ]
          },
          "metadata": {},
          "output_type": "display_data"
        }
      ],
      "source": [
        "test_img = img.imread(covid_images[4])\n",
        "test_resize = resize(test_img, (IMG_SIZE, IMG_SIZE), anti_aliasing=True)\n",
        "plt.imshow(test_resize)"
      ]
    },
    {
      "cell_type": "code",
      "execution_count": null,
      "metadata": {
        "colab": {
          "base_uri": "https://localhost:8080/"
        },
        "id": "XKcCSJfR_sgl",
        "outputId": "23cb4a54-dc70-4bfa-ae4f-3e6a4c023841"
      },
      "outputs": [
        {
          "name": "stdout",
          "output_type": "stream",
          "text": [
            "0.0\n",
            "0.04310344827586207\n",
            "0.08620689655172414\n",
            "0.12931034482758622\n",
            "0.1724137931034483\n",
            "0.21551724137931033\n",
            "0.25862068965517243\n",
            "0.3017241379310345\n",
            "0.3448275862068966\n",
            "0.3879310344827586\n",
            "0.43103448275862066\n",
            "0.47413793103448276\n",
            "0.5172413793103449\n",
            "0.5603448275862069\n",
            "0.603448275862069\n",
            "0.646551724137931\n",
            "0.6896551724137931\n",
            "0.7327586206896551\n",
            "0.7758620689655172\n",
            "0.8189655172413793\n",
            "0.8620689655172413\n",
            "0.9051724137931034\n",
            "0.9482758620689655\n",
            "0.9913793103448276\n",
            "COVID images converting done\n"
          ]
        }
      ],
      "source": [
        "# covid_bar.start()\n",
        "# Converting COVID dataset to .npy format\n",
        "k = len(covid_images)\n",
        "for i, _file in enumerate(covid_images):\n",
        "    try:\n",
        "        image_npy = img.imread(_file)\n",
        "        positive = resize(image_npy, (IMG_SIZE, IMG_SIZE, 1), anti_aliasing=True)\n",
        "        positive_npy[i] = positive\n",
        "    except:\n",
        "        pass\n",
        "    if i%20 == 0:\n",
        "      print(i/k)\n",
        "    # covid_bar.update(i+1)\n",
        "# covid_bar.finish()\n",
        "print(\"COVID images converting done\")"
      ]
    },
    {
      "cell_type": "code",
      "execution_count": null,
      "metadata": {
        "colab": {
          "base_uri": "https://localhost:8080/"
        },
        "id": "HA3YC8e8_422",
        "outputId": "78370d80-320d-4d3c-82b8-98f725dc758b"
      },
      "outputs": [
        {
          "name": "stdout",
          "output_type": "stream",
          "text": [
            "0.0\n",
            "0.033112582781456956\n",
            "0.06622516556291391\n",
            "0.09933774834437085\n",
            "0.13245033112582782\n",
            "0.16556291390728478\n",
            "0.1986754966887417\n",
            "0.23178807947019867\n",
            "0.26490066225165565\n",
            "0.2980132450331126\n",
            "0.33112582781456956\n",
            "0.36423841059602646\n",
            "0.3973509933774834\n",
            "0.4304635761589404\n",
            "0.46357615894039733\n",
            "0.4966887417218543\n",
            "0.5298013245033113\n",
            "0.5629139072847682\n",
            "0.5960264900662252\n",
            "0.6291390728476821\n",
            "0.6622516556291391\n",
            "0.695364238410596\n",
            "0.7284768211920529\n",
            "0.7615894039735099\n",
            "0.7947019867549668\n",
            "0.8278145695364238\n",
            "0.8609271523178808\n",
            "0.8940397350993378\n",
            "0.9271523178807947\n",
            "0.9602649006622517\n",
            "0.9933774834437086\n",
            "non covid images converting done\n"
          ]
        }
      ],
      "source": [
        "# non_covid_bar.start()\n",
        "k = len(non_covid_images)\n",
        "# Converting non-COVID dataset to .npy format\n",
        "for i, _file in enumerate(non_covid_images):\n",
        "    try:\n",
        "        image_npy = img.imread(_file)\n",
        "        negative = resize(image_npy, (IMG_SIZE, IMG_SIZE, 1), anti_aliasing=True)\n",
        "        negative_npy[i] = negative\n",
        "    except:\n",
        "        print(\"cant open image \" + i + \"th\") \n",
        "    # non_covid_bar.update(i+1)\n",
        "    if i%20 == 0:\n",
        "      print(i/k)\n",
        "# non_covid_bar.finish()\n",
        "print(\"non covid images converting done\")     "
      ]
    },
    {
      "cell_type": "code",
      "execution_count": null,
      "metadata": {
        "colab": {
          "base_uri": "https://localhost:8080/"
        },
        "id": "lD6ltxayA-yC",
        "outputId": "b0332dc4-35e2-4c3a-8c6e-a207c4f04134"
      },
      "outputs": [
        {
          "name": "stdout",
          "output_type": "stream",
          "text": [
            "0.0\n",
            "0.37037037037037035\n",
            "0.7407407407407407\n",
            "cap images converting done\n"
          ]
        }
      ],
      "source": [
        "# cap_bar.start()\n",
        "# Converting non-COVID dataset to .npy format\n",
        "k = len(cap_images)\n",
        "for i, _file in enumerate(cap_images):\n",
        "    try:\n",
        "        image_npy = img.imread(_file)\n",
        "        cap = resize(image_npy, (IMG_SIZE, IMG_SIZE, 1), anti_aliasing=True)\n",
        "        cap_npy[i] = cap\n",
        "    except:\n",
        "        print(\"cant open image \" + i + \"th\") \n",
        "    if i%20 == 0:\n",
        "      print(i/k)\n",
        "    # cap_bar.update(i+1)\n",
        "# cap_bar.finish()\n",
        "print(\"cap images converting done\") "
      ]
    },
    {
      "cell_type": "code",
      "execution_count": null,
      "metadata": {
        "colab": {
          "base_uri": "https://localhost:8080/"
        },
        "id": "Kw4CSoYmBGoq",
        "outputId": "70d0bfc1-eb66-4921-e751-7265d49f9ffb"
      },
      "outputs": [
        {
          "name": "stdout",
          "output_type": "stream",
          "text": [
            "(464, 256, 256, 1)\n",
            "(604, 256, 256, 1)\n",
            "(54, 256, 256, 1)\n"
          ]
        }
      ],
      "source": [
        "print(positive_npy.shape)\n",
        "print(negative_npy.shape)\n",
        "print(cap_npy.shape)"
      ]
    },
    {
      "cell_type": "code",
      "execution_count": null,
      "metadata": {
        "id": "3ogVtSNyBMaL"
      },
      "outputs": [],
      "source": [
        "# To load .npy datasets\n",
        "def load_data():\n",
        "    capnum = 11\n",
        "    posnum = 93\n",
        "    negnum = 121\n",
        "    cap = cap_npy\n",
        "    cap_labels = [2 for i in cap]\n",
        "    cap_test = cap[:capnum,:,:,:]\n",
        "    cap_train = cap[capnum:,:,:,:]\n",
        "    positive = positive_npy\n",
        "    positive_labels = [0 for i in positive]\n",
        "    positive_test = positive[:posnum,:,:,:]\n",
        "    positive_train = positive[posnum:,:,:,:]\n",
        "    negative = negative_npy\n",
        "    negative_labels = [1 for i in negative]\n",
        "    negative_test = negative[:negnum,:,:,:]\n",
        "    negative_train = negative[negnum:,:,:,:]\n",
        "\n",
        "    # Joining both datasets and labels\n",
        "    X_train = np.concatenate([positive_train, negative_train, cap_train])\n",
        "    X_test = np.concatenate([positive_test, negative_test, cap_test])\n",
        "    y_train = np.concatenate([positive_labels[posnum:], negative_labels[negnum:], cap_labels[capnum:]])\n",
        "    y_test = np.concatenate([positive_labels[:posnum], negative_labels[:negnum], cap_labels[:capnum]])\n",
        "    return X_train, X_test, y_train, y_test"
      ]
    },
    {
      "cell_type": "code",
      "execution_count": null,
      "metadata": {
        "id": "TUZUCRcoBRjo"
      },
      "outputs": [],
      "source": [
        "# save x and y\n",
        "X_train, X_test, y_train, y_test = load_data()\n",
        "np.savez('X_train', X_train)\n",
        "np.savez('X_test', X_test)\n",
        "np.savez('y_train', y_train)\n",
        "np.savez('y_test', y_test)"
      ]
    },
    {
      "cell_type": "code",
      "execution_count": null,
      "metadata": {
        "id": "OLVxp3Kkss8M"
      },
      "outputs": [],
      "source": [
        "!mv '/content/y_test.npz' '/content/drive/Shareddrives/475 Final Project'"
      ]
    },
    {
      "cell_type": "code",
      "execution_count": null,
      "metadata": {
        "id": "vqUdr2pknnqe"
      },
      "outputs": [],
      "source": [
        "# load in \n",
        "dataX_train = np.load('/content/drive/Shareddrives/475 Final Project/X_train.npz')\n",
        "dataX_test = np.load('/content/drive/Shareddrives/475 Final Project/X_test.npz')\n",
        "datay_train = np.load('/content/drive/Shareddrives/475 Final Project/y_train.npz')\n",
        "datay_test = np.load('/content/drive/Shareddrives/475 Final Project/y_test.npz')\n",
        "X_train = dataX_train['arr_0']\n",
        "X_test = dataX_test['arr_0']\n",
        "y_train = datay_train['arr_0']\n",
        "y_test = datay_test['arr_0']"
      ]
    },
    {
      "cell_type": "code",
      "execution_count": null,
      "metadata": {
        "id": "PWy3hZB5BUV4"
      },
      "outputs": [],
      "source": [
        "# print(X.shape)\n",
        "# print(y.shape)\n",
        "\n",
        "# X_train, X_test, y_train, y_test = train_test_split(X, y, test_size=0.2, random_state=42)\n",
        "y_train_hot = keras.utils.to_categorical(y_train, 3)\n",
        "y_test_hot =  keras.utils.to_categorical(y_test, 3)"
      ]
    },
    {
      "cell_type": "code",
      "execution_count": null,
      "metadata": {
        "colab": {
          "base_uri": "https://localhost:8080/"
        },
        "id": "p6XYbugRBmCp",
        "outputId": "02b98cd8-7198-4b90-d7fc-103288e2fe1a"
      },
      "outputs": [
        {
          "name": "stdout",
          "output_type": "stream",
          "text": [
            "Downloading data from https://storage.googleapis.com/tensorflow/keras-applications/vgg19/vgg19_weights_tf_dim_ordering_tf_kernels_notop.h5\n",
            "80142336/80134624 [==============================] - 1s 0us/step\n",
            "80150528/80134624 [==============================] - 1s 0us/step\n",
            "0 input_1\n",
            "1 block1_conv1\n",
            "2 block1_conv2\n",
            "3 block1_pool\n",
            "4 block2_conv1\n",
            "5 block2_conv2\n",
            "6 block2_pool\n",
            "7 block3_conv1\n",
            "8 block3_conv2\n",
            "9 block3_conv3\n",
            "10 block3_conv4\n",
            "11 block3_pool\n",
            "12 block4_conv1\n",
            "13 block4_conv2\n",
            "14 block4_conv3\n",
            "15 block4_conv4\n",
            "16 block4_pool\n",
            "17 block5_conv1\n",
            "18 block5_conv2\n",
            "19 block5_conv3\n",
            "20 block5_conv4\n",
            "21 block5_pool\n",
            "<keras.engine.input_layer.InputLayer object at 0x7f3262bdc3d0> False\n",
            "<keras.layers.convolutional.Conv2D object at 0x7f325eed4b10> False\n",
            "<keras.layers.convolutional.Conv2D object at 0x7f325b5af990> False\n",
            "<keras.layers.pooling.MaxPooling2D object at 0x7f325acef110> False\n",
            "<keras.layers.convolutional.Conv2D object at 0x7f3250785a50> False\n",
            "<keras.layers.convolutional.Conv2D object at 0x7f3250788a50> False\n",
            "<keras.layers.pooling.MaxPooling2D object at 0x7f325078cc10> False\n",
            "<keras.layers.convolutional.Conv2D object at 0x7f3250794590> False\n",
            "<keras.layers.convolutional.Conv2D object at 0x7f325079d2d0> False\n",
            "<keras.layers.convolutional.Conv2D object at 0x7f3250791a90> False\n",
            "<keras.layers.convolutional.Conv2D object at 0x7f32507a6810> False\n",
            "<keras.layers.pooling.MaxPooling2D object at 0x7f32507b0910> False\n",
            "<keras.layers.convolutional.Conv2D object at 0x7f32507aab10> False\n",
            "<keras.layers.convolutional.Conv2D object at 0x7f32507b43d0> False\n",
            "<keras.layers.convolutional.Conv2D object at 0x7f325073ba90> False\n",
            "<keras.layers.convolutional.Conv2D object at 0x7f3250740a90> False\n",
            "<keras.layers.pooling.MaxPooling2D object at 0x7f3250745210> False\n",
            "<keras.layers.convolutional.Conv2D object at 0x7f3250749e50> True\n",
            "<keras.layers.convolutional.Conv2D object at 0x7f3250753310> True\n",
            "<keras.layers.convolutional.Conv2D object at 0x7f325074e610> True\n",
            "<keras.layers.convolutional.Conv2D object at 0x7f325075a410> True\n",
            "<keras.layers.pooling.MaxPooling2D object at 0x7f325076a110> True\n",
            "Model: \"vgg19\"\n",
            "_________________________________________________________________\n",
            " Layer (type)                Output Shape              Param #   \n",
            "=================================================================\n",
            " input_1 (InputLayer)        [(None, None, None, 3)]   0         \n",
            "                                                                 \n",
            " block1_conv1 (Conv2D)       (None, None, None, 64)    1792      \n",
            "                                                                 \n",
            " block1_conv2 (Conv2D)       (None, None, None, 64)    36928     \n",
            "                                                                 \n",
            " block1_pool (MaxPooling2D)  (None, None, None, 64)    0         \n",
            "                                                                 \n",
            " block2_conv1 (Conv2D)       (None, None, None, 128)   73856     \n",
            "                                                                 \n",
            " block2_conv2 (Conv2D)       (None, None, None, 128)   147584    \n",
            "                                                                 \n",
            " block2_pool (MaxPooling2D)  (None, None, None, 128)   0         \n",
            "                                                                 \n",
            " block3_conv1 (Conv2D)       (None, None, None, 256)   295168    \n",
            "                                                                 \n",
            " block3_conv2 (Conv2D)       (None, None, None, 256)   590080    \n",
            "                                                                 \n",
            " block3_conv3 (Conv2D)       (None, None, None, 256)   590080    \n",
            "                                                                 \n",
            " block3_conv4 (Conv2D)       (None, None, None, 256)   590080    \n",
            "                                                                 \n",
            " block3_pool (MaxPooling2D)  (None, None, None, 256)   0         \n",
            "                                                                 \n",
            " block4_conv1 (Conv2D)       (None, None, None, 512)   1180160   \n",
            "                                                                 \n",
            " block4_conv2 (Conv2D)       (None, None, None, 512)   2359808   \n",
            "                                                                 \n",
            " block4_conv3 (Conv2D)       (None, None, None, 512)   2359808   \n",
            "                                                                 \n",
            " block4_conv4 (Conv2D)       (None, None, None, 512)   2359808   \n",
            "                                                                 \n",
            " block4_pool (MaxPooling2D)  (None, None, None, 512)   0         \n",
            "                                                                 \n",
            " block5_conv1 (Conv2D)       (None, None, None, 512)   2359808   \n",
            "                                                                 \n",
            " block5_conv2 (Conv2D)       (None, None, None, 512)   2359808   \n",
            "                                                                 \n",
            " block5_conv3 (Conv2D)       (None, None, None, 512)   2359808   \n",
            "                                                                 \n",
            " block5_conv4 (Conv2D)       (None, None, None, 512)   2359808   \n",
            "                                                                 \n",
            " block5_pool (MaxPooling2D)  (None, None, None, 512)   0         \n",
            "                                                                 \n",
            "=================================================================\n",
            "Total params: 20,024,384\n",
            "Trainable params: 0\n",
            "Non-trainable params: 20,024,384\n",
            "_________________________________________________________________\n"
          ]
        }
      ],
      "source": [
        "VGG = tf.keras.applications.VGG19(weights='imagenet', include_top=False)\n",
        "VGG.trainable =False\n",
        "for i, layer in enumerate(VGG.layers):\n",
        "  print(i, layer.name)\n",
        "\n",
        "for layer in VGG.layers[:-5]:\n",
        "   layer.trainable = False\n",
        "for layer in VGG.layers[-5:]:\n",
        "   layer.trainable = True\n",
        "for layer in VGG.layers:\n",
        "    print(layer, layer.trainable) \n",
        "\n",
        "VGG.summary()"
      ]
    },
    {
      "cell_type": "code",
      "execution_count": null,
      "metadata": {
        "id": "6Lg4rDyuBsH1"
      },
      "outputs": [],
      "source": [
        "def cnn(): \n",
        "    from tensorflow.keras.layers import Input, GlobalAveragePooling2D, GlobalMaxPooling2D, Concatenate\n",
        "    from tensorflow.keras.models import Model\n",
        "    VGG = tf.keras.applications.VGG19(weights='imagenet', include_top=False)\n",
        "    for layer in VGG.layers[:-5]:\n",
        "      layer.trainable = False\n",
        "    for layer in VGG.layers[-5:]:\n",
        "      layer.trainable = True\n",
        "    \n",
        "    input = Input(shape=(IMG_SIZE, IMG_SIZE, 1))\n",
        "    x = Conv2D(3, (3, 3), padding='same')(input)\n",
        "    \n",
        "    x = VGG(x , training=False)\n",
        "    \n",
        "    x = GlobalAveragePooling2D()(x)\n",
        "    x = BatchNormalization()(x)\n",
        "    x = Dropout(0.5)(x)\n",
        "    x = BatchNormalization()(x)\n",
        "    x = Dropout(0.5)(x)\n",
        "\n",
        "    # multi output\n",
        "    output = Dense(3, activation=\"softmax\", name='root')(x)\n",
        " \n",
        "\n",
        "    # model\n",
        "    model = Model(input,output)\n",
        "    \n",
        "    optimizer = keras.optimizers.Adam(lr=0.002, beta_1=0.9, beta_2=0.999, epsilon=0.1, decay=0.0)\n",
        "    model.compile(loss='categorical_crossentropy', optimizer=optimizer, metrics=['accuracy'])\n",
        "    \n",
        "    return model"
      ]
    },
    {
      "cell_type": "code",
      "execution_count": null,
      "metadata": {
        "colab": {
          "base_uri": "https://localhost:8080/"
        },
        "id": "iOeVVwYyByTk",
        "outputId": "ad42b21d-e8a7-417e-8631-6fdda25beaf5"
      },
      "outputs": [
        {
          "name": "stdout",
          "output_type": "stream",
          "text": [
            "Model: \"model\"\n",
            "_________________________________________________________________\n",
            " Layer (type)                Output Shape              Param #   \n",
            "=================================================================\n",
            " input_3 (InputLayer)        [(None, 256, 256, 1)]     0         \n",
            "                                                                 \n",
            " conv2d (Conv2D)             (None, 256, 256, 3)       30        \n",
            "                                                                 \n",
            " vgg19 (Functional)          (None, None, None, 512)   20024384  \n",
            "                                                                 \n",
            " global_average_pooling2d (G  (None, 512)              0         \n",
            " lobalAveragePooling2D)                                          \n",
            "                                                                 \n",
            " batch_normalization (BatchN  (None, 512)              2048      \n",
            " ormalization)                                                   \n",
            "                                                                 \n",
            " dropout (Dropout)           (None, 512)               0         \n",
            "                                                                 \n",
            " batch_normalization_1 (Batc  (None, 512)              2048      \n",
            " hNormalization)                                                 \n",
            "                                                                 \n",
            " dropout_1 (Dropout)         (None, 512)               0         \n",
            "                                                                 \n",
            " root (Dense)                (None, 3)                 1539      \n",
            "                                                                 \n",
            "=================================================================\n",
            "Total params: 20,030,049\n",
            "Trainable params: 9,442,849\n",
            "Non-trainable params: 10,587,200\n",
            "_________________________________________________________________\n"
          ]
        },
        {
          "name": "stderr",
          "output_type": "stream",
          "text": [
            "/usr/local/lib/python3.7/dist-packages/keras/optimizer_v2/adam.py:105: UserWarning: The `lr` argument is deprecated, use `learning_rate` instead.\n",
            "  super(Adam, self).__init__(name, **kwargs)\n"
          ]
        }
      ],
      "source": [
        "model = cnn()\n",
        "model.summary()\n",
        "\n",
        "annealer = ReduceLROnPlateau(monitor='val_accuracy', factor=0.5, patience=5, verbose=1, min_lr=1e-3)\n",
        "checkpoint = ModelCheckpoint('model.h5', verbose=1, save_best_only=True)\n",
        "\n",
        "datagen = ImageDataGenerator(rotation_range=180, # Degree range for random rotations\n",
        "                        width_shift_range=0.2, # Range for random horizontal shifts\n",
        "                        height_shift_range=0.2, # Range for random vertical shifts\n",
        "                        zoom_range=0.2, # Range for random zoom\n",
        "                        horizontal_flip=True, # Randomly flip inputs horizontally\n",
        "                        vertical_flip=True) # Randomly flip inputs vertically\n",
        "BATCH_SIZE = 64\n",
        "datagen.fit(X_train)"
      ]
    },
    {
      "cell_type": "code",
      "execution_count": null,
      "metadata": {
        "colab": {
          "background_save": true,
          "base_uri": "https://localhost:8080/"
        },
        "id": "KUQkVDZvB2yO",
        "outputId": "df2748b9-a3e7-45de-d066-c2014db301c6"
      },
      "outputs": [
        {
          "name": "stdout",
          "output_type": "stream",
          "text": [
            "Epoch 1/20\n",
            "15/15 [==============================] - ETA: 0s - loss: 1.2074 - accuracy: 0.5619  \n",
            "Epoch 1: val_loss improved from inf to 0.80035, saving model to model.h5\n",
            "15/15 [==============================] - 2019s 134s/step - loss: 1.2074 - accuracy: 0.5619 - val_loss: 0.8004 - val_accuracy: 0.6578 - lr: 0.0020\n",
            "Epoch 2/20\n",
            "12/15 [=======================>......] - ETA: 6:30 - loss: 0.8163 - accuracy: 0.7357"
          ]
        }
      ],
      "source": [
        "history = model.fit(X_train, y_train_hot, batch_size=BATCH_SIZE,\n",
        "               epochs=20,\n",
        "               verbose=1,\n",
        "               callbacks=[annealer, checkpoint],\n",
        "               validation_data=(X_test, y_test_hot))"
      ]
    },
    {
      "cell_type": "code",
      "execution_count": null,
      "metadata": {
        "colab": {
          "base_uri": "https://localhost:8080/",
          "height": 295
        },
        "id": "LcsZYjltB7QC",
        "outputId": "9bc1a9d9-4fd6-439c-ed12-d17070db8581"
      },
      "outputs": [
        {
          "data": {
            "image/png": "[encoded data removed]",
            "text/plain": [
              "<Figure size 432x288 with 1 Axes>"
            ]
          },
          "metadata": {},
          "output_type": "display_data"
        }
      ],
      "source": [
        "# accuracy plot \n",
        "plt.plot(history.history['accuracy'])\n",
        "plt.plot(history.history['val_accuracy'])\n",
        "plt.title('model accuracy')\n",
        "plt.ylabel('accuracy')\n",
        "plt.xlabel('epoch')\n",
        "plt.legend(['train', 'test'], loc='upper left')\n",
        "plt.show()"
      ]
    },
    {
      "cell_type": "code",
      "execution_count": null,
      "metadata": {
        "colab": {
          "base_uri": "https://localhost:8080/",
          "height": 295
        },
        "id": "a28YDprYCHMv",
        "outputId": "1cbc6304-54c3-4c61-b439-1e520ab20f62"
      },
      "outputs": [
        {
          "data": {
            "image/png": "[encoded data removed]",
            "text/plain": [
              "<Figure size 432x288 with 1 Axes>"
            ]
          },
          "metadata": {},
          "output_type": "display_data"
        }
      ],
      "source": [
        "# loss plot\n",
        "plt.plot(history.history['loss'])\n",
        "plt.plot(history.history['val_loss'])\n",
        "plt.title('model loss')\n",
        "plt.ylabel('loss')\n",
        "plt.xlabel('epoch')\n",
        "plt.legend(['train', 'test'], loc='upper left')\n",
        "plt.show()"
      ]
    },
    {
      "cell_type": "code",
      "execution_count": null,
      "metadata": {
        "id": "6-6Dw5AexWhQ"
      },
      "outputs": [],
      "source": [
        "y_pred = model.predict(X_test)"
      ]
    },
    {
      "cell_type": "code",
      "execution_count": null,
      "metadata": {
        "id": "0NJR_iT3x4ey"
      },
      "outputs": [],
      "source": [
        "from sklearn import metrics\n",
        "matrix = metrics.confusion_matrix(y_test, y_pred.argmax(axis=1))"
      ]
    },
    {
      "cell_type": "code",
      "execution_count": null,
      "metadata": {
        "colab": {
          "base_uri": "https://localhost:8080/",
          "height": 501
        },
        "id": "y6IqndA3ybAA",
        "outputId": "802946d8-22a9-4243-de26-da58680756ae"
      },
      "outputs": [
        {
          "data": {
            "image/png": "[encoded data removed]",
            "text/plain": [
              "<Figure size 540x540 with 1 Axes>"
            ]
          },
          "metadata": {},
          "output_type": "display_data"
        }
      ],
      "source": [
        "fig, ax = plt.subplots(figsize=(7.5, 7.5))\n",
        "ax.matshow(matrix, cmap=plt.cm.Blues, alpha=0.3)\n",
        "for i in range(matrix.shape[0]):\n",
        "    for j in range(matrix.shape[1]):\n",
        "        ax.text(x=j, y=i,s=matrix[i, j], va='center', ha='center', size='xx-large')\n",
        " \n",
        "plt.xlabel('Predictions', fontsize=18)\n",
        "plt.ylabel('Actuals', fontsize=18)\n",
        "plt.title('Confusion Matrix', fontsize=18)\n",
        "plt.show()"
      ]
    },
    {
      "cell_type": "code",
      "execution_count": null,
      "metadata": {
        "id": "bnWOgvfqSCr5"
      },
      "outputs": [],
      "source": [
        "!mv '/content/model.h5' '/content/drive/Shareddrives/475 Final Project'"
      ]
    },
    {
      "cell_type": "markdown",
      "metadata": {
        "id": "10hQvLQWSEdx"
      },
      "source": [
        "# Load Trained Model"
      ]
    },
    {
      "cell_type": "code",
      "execution_count": null,
      "metadata": {
        "id": "ygZuqucESECV"
      },
      "outputs": [],
      "source": [
        "model = keras.models.load_model('/content/drive/Shareddrives/475 Final Project/model.h5')\n",
        "model.summary()"
      ]
    },
    {
      "cell_type": "markdown",
      "metadata": {
        "id": "ZfBqBFkCVtgH"
      },
      "source": [
        "# GradCam Visualization"
      ]
    },
    {
      "cell_type": "code",
      "execution_count": null,
      "metadata": {
        "id": "ffndMc5eVsJf"
      },
      "outputs": [],
      "source": [
        "import numpy as np\n",
        "import tensorflow as tf\n",
        "from tensorflow import keras\n",
        "\n",
        "from IPython.display import Image\n",
        "import matplotlib.pyplot as plt\n",
        "import matplotlib.cm as cm"
      ]
    },
    {
      "cell_type": "code",
      "execution_count": null,
      "metadata": {
        "id": "bg0ZUsm6H_sP"
      },
      "outputs": [],
      "source": [
        "[a.name for a in model.layers[2].layers]\n",
        "\n",
        "#model.layers[2].get_layer('block4_conv1').output"
      ]
    },
    {
      "cell_type": "code",
      "execution_count": null,
      "metadata": {
        "id": "EOohLITpVnRl"
      },
      "outputs": [],
      "source": [
        "# https://keras.io/examples/vision/grad_cam/\n",
        "\n",
        "# The Grad-CAM algorithm\n",
        "def get_img_array(img_path, size):\n",
        "    # `img` is a PIL image of size 299x299\n",
        "    img = keras.preprocessing.image.load_img(img_path, target_size=size)\n",
        "    # `array` is a float32 Numpy array of shape (299, 299, 3)\n",
        "    array = keras.preprocessing.image.img_to_array(img)\n",
        "    # We add a dimension to transform our array into a \"batch\"\n",
        "    # of size (1, 64, 64, 3)\n",
        "    array = np.expand_dims(array, axis=0)\n",
        "    return array\n",
        "\n",
        "def make_gradcam_heatmap(img_array, model):\n",
        "    final_conv_layer = model.get_layer('vgg19').get_layer('block5_conv3')\n",
        "\n",
        "    # Model connecting input image to final conv layer\n",
        "    input = keras.Input(shape=model.inputs[0].shape[1:])\n",
        "    output = input\n",
        "    output = model.layers[0](input)\n",
        "    output = model.layers[1](output)\n",
        "    for layer in model.get_layer('vgg19').layers[:-1]: # slice to -1 to exclude final pooling layer\n",
        "         output = layer(output)\n",
        "    input_to_conv_model = keras.Model(input, output)\n",
        "\n",
        "    # Model connecting final conv layer to predictions\n",
        "    input = keras.Input(shape = final_conv_layer.output.shape[1:]) # 1: cuts out batch dimension\n",
        "    output = input\n",
        "    # pass through final pooling layer\n",
        "    output = model.get_layer('vgg19').layers[-1](input)\n",
        "    # iterate through layers after vgg\n",
        "    for layer in model.layers[3:]: # 3: to slice after vgg19 layer\n",
        "        output = layer(output)\n",
        "    conv_to_predict_model = keras.Model(input, output)\n",
        "\n",
        "    # Compute the gradient of the top predicted class for our input image\n",
        "    # with respect to the activations of the last conv layer\n",
        "    with tf.GradientTape() as tape:\n",
        "        # Compute activations of the last conv layer and make the tape watch it\n",
        "        conv_output = input_to_conv_model(img_array)\n",
        "        tape.watch(conv_output)\n",
        "        # Compute class predictions\n",
        "        preds = conv_to_predict_model(conv_output)\n",
        "        top_pred_index = tf.argmax(preds[0])\n",
        "        top_class_channel = preds[:, top_pred_index]\n",
        "\n",
        "    # This is the gradient of the top predicted class with regard to\n",
        "    # the output feature map of the last conv layer\n",
        "    grads = tape.gradient(top_class_channel, conv_output)\n",
        "\n",
        "    # This is a vector where each entry is the mean intensity of the gradient\n",
        "    # over a specific feature map channel\n",
        "    pooled_grads = tf.reduce_mean(grads, axis=(0, 1, 2))\n",
        "\n",
        "    # We multiply each channel in the feature map array\n",
        "    # by \"how important this channel is\" with regard to the top predicted class\n",
        "    conv_output = conv_output.numpy()[0]\n",
        "    pooled_grads = pooled_grads.numpy()\n",
        "    for i in range(pooled_grads.shape[-1]):\n",
        "        conv_output[:, :, i] *= pooled_grads[i]\n",
        "\n",
        "    # The channel-wise mean of the resulting feature map\n",
        "    # is our heatmap of class activation\n",
        "    heatmap = np.mean(conv_output, axis=-1)\n",
        "\n",
        "    # For visualization purpose, we will also normalize the heatmap between 0 & 1\n",
        "    heatmap = np.maximum(heatmap, 0) / np.max(heatmap)\n",
        "    return heatmap"
      ]
    },
    {
      "cell_type": "code",
      "execution_count": null,
      "metadata": {
        "id": "rqY9EKP2uDI5"
      },
      "outputs": [],
      "source": [
        "# Test Gradcam\n",
        "k = 65\n",
        "image_path = non_covid_images[k]\n",
        "image_size = (IMG_SIZE, IMG_SIZE)\n",
        "img_array = get_img_array(image_path, size=image_size)\n",
        "img_array = tf.image.rgb_to_grayscale(img_array)\n",
        "#print(y_test[k], y_pred.argmax(axis=1)[k])\n",
        "# Remove last layer's softmax\n",
        "model.layers[-1].activation = None\n",
        "\n",
        "# Generate class activation heatmap\n",
        "heatmap = make_gradcam_heatmap(img_array, model)\n",
        "\n",
        "#Display heatmap\n",
        "plt.matshow(heatmap)\n",
        "plt.show()"
      ]
    },
    {
      "cell_type": "code",
      "execution_count": null,
      "metadata": {
        "colab": {
          "base_uri": "https://localhost:8080/",
          "height": 529
        },
        "id": "Q-2kD1N4y7D0",
        "outputId": "41d94f41-5c76-4cd6-8e50-b1d6188826b9"
      },
      "outputs": [
        {
          "output_type": "display_data",
          "data": {
            "text/plain": [
              "<IPython.core.display.Image object>"
            ],
            "image/jpeg": "[encoded data removed]"
          },
          "metadata": {}
        }
      ],
      "source": [
        "def save_and_display_gradcam(img_path, heatmap, cam_path=\"cam.jpg\", alpha=0.4):\n",
        "    # Load the original image\n",
        "    img = keras.preprocessing.image.load_img(img_path)\n",
        "    img = keras.preprocessing.image.img_to_array(img)\n",
        "\n",
        "    # Rescale heatmap to a range 0-255\n",
        "    heatmap = np.uint8(255 * heatmap)\n",
        "\n",
        "    # Use jet colormap to colorize heatmap\n",
        "    jet = cm.get_cmap(\"jet\")\n",
        "\n",
        "    # Use RGB values of the colormap\n",
        "    jet_colors = jet(np.arange(256))[:, :3]\n",
        "    jet_heatmap = jet_colors[heatmap]\n",
        "\n",
        "    # Create an image with RGB colorized heatmap\n",
        "    jet_heatmap = keras.preprocessing.image.array_to_img(jet_heatmap)\n",
        "    jet_heatmap = jet_heatmap.resize((img.shape[1], img.shape[0]))\n",
        "    jet_heatmap = keras.preprocessing.image.img_to_array(jet_heatmap)\n",
        "\n",
        "    # Superimpose the heatmap on original image\n",
        "    superimposed_img = jet_heatmap * alpha + img\n",
        "    superimposed_img = keras.preprocessing.image.array_to_img(superimposed_img)\n",
        "\n",
        "    # Save the superimposed image\n",
        "    superimposed_img.save(cam_path)\n",
        "\n",
        "    # Display Grad CAM\n",
        "    display(Image(cam_path))\n",
        "\n",
        "save_and_display_gradcam(covid_images[3], heatmap)"
      ]
    },
    {
      "cell_type": "markdown",
      "metadata": {
        "id": "Z_ha73E5j8yx"
      },
      "source": [
        "# Perform PCA"
      ]
    },
    {
      "cell_type": "code",
      "execution_count": null,
      "metadata": {
        "colab": {
          "base_uri": "https://localhost:8080/",
          "height": 219
        },
        "id": "2QN2Cxftj_Ga",
        "outputId": "4ad9b6f3-7162-4bcb-db35-2ca257f4b4b3"
      },
      "outputs": [
        {
          "ename": "NameError",
          "evalue": "ignored",
          "output_type": "error",
          "traceback": [
            "\u001b[0;31m---------------------------------------------------------------------------\u001b[0m",
            "\u001b[0;31mNameError\u001b[0m                                 Traceback (most recent call last)",
            "\u001b[0;32m<ipython-input-1-534d66e1fcf4>\u001b[0m in \u001b[0;36m<module>\u001b[0;34m()\u001b[0m\n\u001b[1;32m      1\u001b[0m \u001b[0;32mfrom\u001b[0m \u001b[0msklearn\u001b[0m\u001b[0;34m.\u001b[0m\u001b[0mdecomposition\u001b[0m \u001b[0;32mimport\u001b[0m \u001b[0mPCA\u001b[0m\u001b[0;34m\u001b[0m\u001b[0;34m\u001b[0m\u001b[0m\n\u001b[0;32m----> 2\u001b[0;31m \u001b[0mprint\u001b[0m\u001b[0;34m(\u001b[0m\u001b[0mX_train\u001b[0m\u001b[0;34m.\u001b[0m\u001b[0mshape\u001b[0m\u001b[0;34m)\u001b[0m\u001b[0;34m\u001b[0m\u001b[0;34m\u001b[0m\u001b[0m\n\u001b[0m\u001b[1;32m      3\u001b[0m \u001b[0mpca\u001b[0m \u001b[0;34m=\u001b[0m \u001b[0mPCA\u001b[0m\u001b[0;34m(\u001b[0m\u001b[0mn_components\u001b[0m\u001b[0;34m=\u001b[0m\u001b[0;36m3\u001b[0m\u001b[0;34m)\u001b[0m\u001b[0;34m\u001b[0m\u001b[0;34m\u001b[0m\u001b[0m\n\u001b[1;32m      4\u001b[0m \u001b[0mX_reduced\u001b[0m \u001b[0;34m=\u001b[0m \u001b[0mpca\u001b[0m\u001b[0;34m.\u001b[0m\u001b[0mfit_transform\u001b[0m\u001b[0;34m(\u001b[0m\u001b[0mX_train\u001b[0m\u001b[0;34m)\u001b[0m\u001b[0;34m\u001b[0m\u001b[0;34m\u001b[0m\u001b[0m\n",
            "\u001b[0;31mNameError\u001b[0m: name 'X_train' is not defined"
          ]
        }
      ],
      "source": [
        "from sklearn.decomposition import PCA\n",
        "print(X_train.shape)\n",
        "pca = PCA()\n",
        "X_reduced = pca.fit_transform(X_train)"
      ]
    },
    {
      "cell_type": "code",
      "execution_count": null,
      "metadata": {
        "id": "2N0pcYuQ6CGH"
      },
      "outputs": [],
      "source": [
        "BATCH_SIZE = 64\n",
        "datagen.fit(X_reduced)"
      ]
    },
    {
      "cell_type": "code",
      "execution_count": null,
      "metadata": {
        "id": "0XlS1izc6g-d"
      },
      "outputs": [],
      "source": [
        "history = model.fit(X_reduced, y_train_hot, batch_size=BATCH_SIZE,\n",
        "               epochs=50,\n",
        "               verbose=1,\n",
        "               callbacks=[annealer, checkpoint],\n",
        "               validation_data=(X_test, y_test_hot))"
      ]
    },
    {
      "cell_type": "code",
      "execution_count": null,
      "metadata": {
        "id": "H38qbdaw6vIX"
      },
      "outputs": [],
      "source": [
        "# accuracy plot \n",
        "plt.plot(history.history['accuracy'])\n",
        "plt.plot(history.history['val_accuracy'])\n",
        "plt.title('model accuracy')\n",
        "plt.ylabel('accuracy')\n",
        "plt.xlabel('epoch')\n",
        "plt.legend(['train', 'test'], loc='upper left')\n",
        "plt.show()"
      ]
    },
    {
      "cell_type": "code",
      "execution_count": null,
      "metadata": {
        "id": "5ci2gotm62uH"
      },
      "outputs": [],
      "source": [
        "# loss plot\n",
        "plt.plot(history.history['loss'])\n",
        "plt.plot(history.history['val_loss'])\n",
        "plt.title('model loss')\n",
        "plt.ylabel('loss')\n",
        "plt.xlabel('epoch')\n",
        "plt.legend(['train', 'test'], loc='upper left')\n",
        "plt.show()"
      ]
    }
  ],
  "metadata": {
    "accelerator": "GPU",
    "colab": {
      "collapsed_sections": [],
      "name": "475_Final_Project.ipynb",
      "provenance": [],
      "include_colab_link": true
    },
    "kernelspec": {
      "display_name": "Python 3",
      "name": "python3"
    },
    "language_info": {
      "name": "python"
    }
  },
  "nbformat": 4,
  "nbformat_minor": 0
}